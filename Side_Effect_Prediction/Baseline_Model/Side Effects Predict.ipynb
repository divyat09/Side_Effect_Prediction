{
 "cells": [
  {
   "cell_type": "code",
   "execution_count": 1,
   "metadata": {
    "collapsed": false
   },
   "outputs": [
    {
     "name": "stdout",
     "output_type": "stream",
     "text": [
      "8011\n",
      "Loading Files Done\n"
     ]
    }
   ],
   "source": [
    "import json\n",
    "import math\n",
    "from mlxtend.preprocessing import OnehotTransactions\n",
    "from sklearn import linear_model\n",
    "from sklearn.svm import SVR\n",
    "from sklearn.feature_selection import SelectKBest\n",
    "from sklearn.feature_selection import chi2\n",
    "from sklearn.metrics import mean_absolute_error\n",
    "from sklearn.metrics import mean_squared_error\n",
    "from sklearn.neural_network import MLPRegressor\n",
    "import pandas as pd\n",
    "import numpy as np\n",
    "\n",
    "# Loading the final patient feature and id files\n",
    "with open('Data/Final_Datasets/Total_Patients_Personal_Details_Features_File.txt') as data_file:    \n",
    "    patient_data = json.load(data_file)   \n",
    "    \n",
    "with open('Data/Final_Datasets/Selected_Patient_Id.txt') as data_file:    \n",
    "    patient_id = json.load(data_file)   \n",
    "    \n",
    "print len(patient_data)\n",
    "print \"Loading Files Done\""
   ]
  },
  {
   "cell_type": "code",
   "execution_count": 2,
   "metadata": {
    "collapsed": false
   },
   "outputs": [
    {
     "name": "stdout",
     "output_type": "stream",
     "text": [
      "Done with the Test\n",
      "Total Number of evaluations 42075\n"
     ]
    }
   ],
   "source": [
    "# Testing for Datasets\n",
    "\n",
    "# Checking is still some case of no Side Effect being mentioned\n",
    "for patient in patient_data.keys():\n",
    "    for drug in patient_data[patient][\"Treatments List\"].keys():\n",
    "        if patient_data[patient][\"Treatments List\"][drug][\"Side Effects\"] == -1:\n",
    "            print \"You are Screwed\"\n",
    "\n",
    "print \"Done with the Test\"\n",
    "total_eval_count = 0\n",
    "\n",
    "for patient in patient_data.keys():\n",
    "    for drug in patient_data[patient][\"Treatments List\"].keys():\n",
    "            total_eval_count = total_eval_count + 1\n",
    "\n",
    "print \"Total Number of evaluations\",\n",
    "print total_eval_count"
   ]
  },
  {
   "cell_type": "code",
   "execution_count": 3,
   "metadata": {
    "collapsed": false
   },
   "outputs": [
    {
     "name": "stdout",
     "output_type": "stream",
     "text": [
      "Done\n"
     ]
    }
   ],
   "source": [
    "matrix =[]\n",
    "label = []\n",
    "\n",
    "patient_counter = 0\n",
    "\n",
    "for patient in patient_data.keys():\n",
    "    \n",
    "\tpatient_counter = patient_counter + 1\n",
    "\n",
    "\tbase_feature = []\n",
    "\tbase_feature.append( patient_counter )\n",
    "\tbase_feature.append( patient_data[patient][\"Age\"] )\n",
    "\tbase_feature.append( patient_data[patient][\"Gender\"] )\n",
    "\tbase_feature.append( patient_data[patient][\"Location\"] )\n",
    "\tbase_feature.append( patient_data[patient][\"Primary Condition\"] )\n",
    "\n",
    "\t#if patient_data[patient][\"Other conditions\"] == -1:\n",
    "\t#\tbase_feature.append(-1)\n",
    "\t#else:\n",
    "\t#\tfor item in patient_data[patient][\"Other conditions\"]:\n",
    "\t#\t\tbase_feature.append(item)\n",
    "\n",
    "\ttime_list =[]\n",
    "\tfor treatment in patient_data[patient][\"Treatments List\"].keys():\n",
    "\t\ttime_list.append( patient_data[patient][\"Treatments List\"][treatment][\"Date of Evaluation\"])\n",
    "    \n",
    "\tfor treatment in patient_data[patient][\"Treatments List\"].keys():\n",
    "\t\tdrug_feature = []\n",
    "\t\tdrug_feature.append(int(treatment))\n",
    "\t\tdrug_feature.append( patient_data[patient][\"Treatments List\"][treatment][\"Purpose\"])\n",
    "\t\tdrug_feature.append( patient_data[patient][\"Treatments List\"][treatment][\"Adherence\"])\n",
    "\t\tdrug_feature.append( patient_data[patient][\"Treatments List\"][treatment][\"Cost\"])\n",
    "\t\tdrug_feature.append( patient_data[patient][\"Treatments List\"][treatment][\"Date of Evaluation\"])\n",
    "\t\tdrug_feature.append( patient_data[patient][\"Treatments List\"][treatment][\"Other_Drug\"])\n",
    "                            \n",
    "\t\t#for other in patient_data[patient][\"Treatments List\"][treatment][\"Other Treatments Before\"]:\n",
    "\t\t\t#drug_feature.append(other)\n",
    "\t\t\t#drug_feature.append(patient_data[patient][\"Treatments List\"][str(other)][\"Purpose\"])\n",
    "\t\t\t#drug_feature.append(patient_data[patient][\"Treatments List\"][str(other)][\"Adherence\"])\n",
    "\t\t\t#drug_feature.append(patient_data[patient][\"Treatments List\"][str(other)][\"Cost\"])\n",
    "\t\t\t#drug_feature.append(patient_data[patient][\"Treatments List\"][str(other)][\"Side Effect Rating\"])\n",
    "\n",
    "\t\tfeature = base_feature + drug_feature\n",
    "\t\tmatrix.append(feature)\t\t\t\n",
    "\t\tlabel.append(patient_data[patient][\"Treatments List\"][treatment][\"Side Effect Rating\"])\t\t\n",
    "print \"Done\""
   ]
  },
  {
   "cell_type": "code",
   "execution_count": 4,
   "metadata": {
    "collapsed": false
   },
   "outputs": [
    {
     "name": "stdout",
     "output_type": "stream",
     "text": [
      "Done\n"
     ]
    }
   ],
   "source": [
    "from sklearn.metrics import precision_score\n",
    "from sklearn.metrics import recall_score\n",
    "from sklearn.metrics import f1_score\n",
    "from sklearn.ensemble import RandomForestRegressor\n",
    "from sklearn.tree import DecisionTreeRegressor\n",
    "from sklearn.naive_bayes import GaussianNB\n",
    "from sklearn.metrics import make_scorer\n",
    "import matplotlib.pyplot as plt\n",
    "\n",
    "#matrix1 = pd.DataFrame(matrix).fillna(-1)\n",
    "#print matrix1.shape[0]\n",
    "\n",
    "from sklearn.model_selection import KFold, cross_val_score\n",
    "k_fold = KFold(n_splits=5)\n",
    "\n",
    "\n",
    "train_matrix= []\n",
    "test_matrix = []\n",
    "train_label = []\n",
    "test_label = []\n",
    "\n",
    "scale =  len(matrix)/5\n",
    "for i in range(0, 5):\n",
    "    test_matrix.append( matrix[i*scale : (i+1)*scale] )\n",
    "    train_matrix.append( matrix[:i*scale] + matrix[(i+1)*scale:] )\n",
    "\n",
    "    test_label.append( label[i*scale : (i+1)*scale] )\n",
    "    train_label.append( label[:i*scale] + label[(i+1)*scale:] )\n",
    "\n",
    "print \"Done\""
   ]
  },
  {
   "cell_type": "code",
   "execution_count": null,
   "metadata": {
    "collapsed": false
   },
   "outputs": [],
   "source": [
    "clf= SVR( kernel = 'rbf', C=1e3, gamma =0.1)\n",
    "clf= SVR( kernel = 'linear', C=1e3 )"
   ]
  },
  {
   "cell_type": "code",
   "execution_count": 5,
   "metadata": {
    "collapsed": false
   },
   "outputs": [
    {
     "name": "stdout",
     "output_type": "stream",
     "text": [
      "MSE\n",
      "0.90201911468\n",
      "RMSE\n",
      "1.0580881026\n"
     ]
    }
   ],
   "source": [
    "mse = 0\n",
    "rmse = 0\n",
    "for i in range(0,5):\n",
    "    clf= linear_model.LinearRegression()\n",
    "    clf.fit(train_matrix[i], train_label[i])\n",
    "    predict_label = clf.predict(test_matrix[i])\n",
    "    \n",
    "    mse = mse + mean_absolute_error(test_label[i], predict_label)\n",
    "    rmse = rmse + math.sqrt(mean_squared_error(test_label[i], predict_label))\n",
    "    \n",
    "print 'MSE'\n",
    "print mse/5.0\n",
    "print 'RMSE'\n",
    "print rmse/5.0"
   ]
  },
  {
   "cell_type": "code",
   "execution_count": 8,
   "metadata": {
    "collapsed": false,
    "scrolled": false
   },
   "outputs": [
    {
     "name": "stdout",
     "output_type": "stream",
     "text": [
      "Case\n",
      "1\n",
      "MSE\n",
      "0.872922647526\n",
      "RMSE\n",
      "1.02844899587\n",
      "Importance\n",
      "[ 0.06854593  0.04904205  0.01249118  0.08493738  0.06934279  0.19748536\n",
      "  0.31194559  0.03930293  0.0147281   0.13556131  0.01661738]\n"
     ]
    },
    {
     "data": {
      "image/png": "[encoded data removed]",
      "text/plain": [
       "<matplotlib.figure.Figure at 0x7fd0ed4ed990>"
      ]
     },
     "metadata": {},
     "output_type": "display_data"
    },
    {
     "name": "stdout",
     "output_type": "stream",
     "text": [
      "Case\n",
      "2\n",
      "MSE\n",
      "0.872842004719\n",
      "RMSE\n",
      "1.02829666107\n",
      "Importance\n",
      "[ 0.06779575  0.04930576  0.0123834   0.08466567  0.07086019  0.19680994\n",
      "  0.31089482  0.03970882  0.01483215  0.13617932  0.01656417]\n"
     ]
    },
    {
     "data": {
      "image/png": "[encoded data removed]",
      "text/plain": [
       "<matplotlib.figure.Figure at 0x7fd0ed417fd0>"
      ]
     },
     "metadata": {},
     "output_type": "display_data"
    },
    {
     "name": "stdout",
     "output_type": "stream",
     "text": [
      "Case\n",
      "3\n",
      "MSE\n",
      "0.872837062058\n",
      "RMSE\n",
      "1.0282388159\n",
      "Importance\n",
      "[ 0.06726729  0.04858294  0.01288608  0.08526553  0.07042266  0.19704684\n",
      "  0.31100454  0.03952794  0.01455324  0.13713278  0.01631017]\n"
     ]
    },
    {
     "data": {
      "image/png": "[encoded data removed]",
      "text/plain": [
       "<matplotlib.figure.Figure at 0x7fd0ed43e250>"
      ]
     },
     "metadata": {},
     "output_type": "display_data"
    },
    {
     "name": "stdout",
     "output_type": "stream",
     "text": [
      "Case\n",
      "4\n",
      "MSE\n",
      "0.872381399645\n",
      "RMSE\n",
      "1.02781703052\n",
      "Importance\n",
      "[ 0.06770465  0.0494177   0.01241662  0.08465466  0.07016695  0.19868269\n",
      "  0.30985353  0.03964841  0.01479314  0.13661454  0.01604712]\n"
     ]
    },
    {
     "data": {
      "image/png": "[encoded data removed]",
      "text/plain": [
       "<matplotlib.figure.Figure at 0x7fd0ed31fc50>"
      ]
     },
     "metadata": {},
     "output_type": "display_data"
    },
    {
     "name": "stdout",
     "output_type": "stream",
     "text": [
      "Case\n",
      "5\n",
      "MSE\n",
      "0.872405750858\n",
      "RMSE\n",
      "1.02794514963\n",
      "Importance\n",
      "[ 0.06777511  0.04918912  0.01255264  0.08489611  0.07052278  0.19836336\n",
      "  0.31016385  0.0398255   0.01463363  0.13583327  0.01624462]\n"
     ]
    },
    {
     "data": {
      "image/png": "[encoded data removed]",
      "text/plain": [
       "<matplotlib.figure.Figure at 0x7fd0ed5b9950>"
      ]
     },
     "metadata": {},
     "output_type": "display_data"
    }
   ],
   "source": [
    "for case in range(1,6):\n",
    "    mse = 0\n",
    "    rmse = 0\n",
    "    imp = np.zeros(11)\n",
    "\n",
    "    for i in range(0,5):\n",
    "        clf= RandomForestRegressor(n_estimators=case*100, min_samples_leaf= 70)\n",
    "        clf.fit(train_matrix[i], train_label[i])\n",
    "        predict_label = clf.predict(test_matrix[i])\n",
    "\n",
    "        imp = imp + np.array(clf.feature_importances_)\n",
    "        mse = mse + mean_absolute_error(test_label[i], predict_label)\n",
    "        rmse = rmse + math.sqrt(mean_squared_error(test_label[i], predict_label))\n",
    "    \n",
    "    print 'Case'\n",
    "    print case\n",
    "    print 'MSE'\n",
    "    print mse/5.0\n",
    "    print 'RMSE'\n",
    "    print rmse/5.0\n",
    "    print 'Importance'\n",
    "    print imp/5.0\n",
    "\n",
    "    Labels =[\"P_Id\",\"Age\",\"Gen\",\"Loc\",\"Cond\",\"D_Id\",\"Purp\",\"Ad\",\"Cost\",\"Time\",\"Oth\"] \n",
    "    x_axis = [1,2,3,4,5,6,7,8,9,10,11]\n",
    "\n",
    "    #Labels =[\"P_Id\",\"Age\",\"Gen\",\"Loc\",\"Cond\",\"D_Id\",\"Purp\",\"Ad\",\"Cost\",\"Time\"] \n",
    "    #x_axis = [1,2,3,4,5,6,7,8,9,10]\n",
    "\n",
    "    #Labels =[\"P_Id\",\"Age\",\"Gen\",\"Cond\",\"D_Id\",\"Purp\",\"Ad\",\"Cost\",\"Time\"] \n",
    "    #x_axis = [1,2,3,4,5,6,7,8,9]\n",
    "\n",
    "    #Labels =[\"P_Id\",\"Age\",\"Gen\",\"Cond\",\"D_Id\",\"Purp\",\"Time\"] \n",
    "    #x_axis = [1,2,3,4,5,6,7]\n",
    "\n",
    "    #Labels =[\"P_Id\",\"D_Id\"] \n",
    "    #x_axis = [1,2]\n",
    "\n",
    "    #Labels =[\"P_Id\",\"Age\",\"Gen\",\"Cond\",\"D_Id\",\"Purp\",\"Ad\",\"Cost\",\"Time\",\"Oth\"] \n",
    "    #x_axis = [1,2,3,4,5,6,7,8,9,10]\n",
    "\n",
    "    #Labels =[\"P_Id\",\"Age\",\"Gen\",\"Cond\",\"D_Id\",\"Purp\",\"Time\",\"Oth\"] \n",
    "    #x_axis = [1,2,3,4,5,6,7,8]\n",
    "\n",
    "    #Labels =[\"P_Id\",\"Cond\",\"D_Id\",\"Purp\",\"Time\",\"Oth\"] \n",
    "    #x_axis = [1,2,3,4,5,6]\n",
    "\n",
    "    #Labels =[\"P_Id\",\"D_Id\",\"Purp\",\"Ad\",\"Cost\",\"Time\",\"Oth\"] \n",
    "    #x_axis = [1,2,3,4,5,6,7]\n",
    "\n",
    "    #Labels =[\"P_Id\",\"D_Id\",\"Purp\"] \n",
    "    #x_axis = [1,2,3]\n",
    "\n",
    "    plt.bar(x_axis , imp, align='center')\n",
    "    plt.xticks(x_axis, Labels)\n",
    "    plt.show()"
   ]
  },
  {
   "cell_type": "code",
   "execution_count": null,
   "metadata": {
    "collapsed": false
   },
   "outputs": [],
   "source": [
    "mse = 0\n",
    "rmse = 0\n",
    "imp = np.zeros(7)\n",
    "\n",
    "for i in range(0,5):\n",
    "    clf= DecisionTreeRegressor(min_samples_leaf= 100)\n",
    "    clf.fit(train_matrix[i], train_label[i])\n",
    "    predict_label = clf.predict(test_matrix[i])\n",
    "    \n",
    "    imp = imp + np.array(clf.feature_importances_)\n",
    "    mse = mse + mean_absolute_error(test_label[i], predict_label)\n",
    "    rmse = rmse + math.sqrt(mean_squared_error(test_label[i], predict_label))\n",
    "    \n",
    "print 'MSE'\n",
    "print mse/5.0\n",
    "print 'RMSE'\n",
    "print rmse/5.0\n",
    "print 'Importance'\n",
    "print imp/5.0\n",
    "\n",
    "#Labels =[\"P_Id\",\"Age\",\"Gen\",\"Loc\",\"Cond\",\"D_Id\",\"Purp\",\"Ad\",\"Cost\",\"Time\"] \n",
    "#x_axis = [1,2,3,4,5,6,7,8,9,10]\n",
    "\n",
    "#Labels =[\"P_Id\",\"Age\",\"Gen\",\"Cond\",\"D_Id\",\"Purp\",\"Ad\",\"Cost\",\"Time\"] \n",
    "#x_axis = [1,2,3,4,5,6,7,8,9]\n",
    "\n",
    "#Labels =[\"P_Id\",\"Age\",\"Gen\",\"Cond\",\"D_Id\",\"Purp\",\"Time\"] \n",
    "#x_axis = [1,2,3,4,5,6,7]\n",
    "\n",
    "#Labels =[\"P_Id\",\"Age\",\"Gen\",\"Cond\",\"D_Id\",\"Purp\",\"Time\",\"Oth\"] \n",
    "#x_axis = [1,2,3,4,5,6,7,8]\n",
    "\n",
    "#plt.bar(x_axis , imp, align = 'center' )\n",
    "#plt.xticks(x_axis, Labels)\n",
    "#plt.show()"
   ]
  },
  {
   "cell_type": "code",
   "execution_count": null,
   "metadata": {
    "collapsed": false
   },
   "outputs": [],
   "source": [
    "mse = 0\n",
    "rmse = 0\n",
    "for i in range(0,5):\n",
    "    clf= GaussianNB()\n",
    "    clf.fit(train_matrix[i], train_label[i])\n",
    "    predict_label = clf.predict(test_matrix[i])\n",
    "    \n",
    "    mse = mse + mean_absolute_error(test_label[i], predict_label)\n",
    "    rmse = rmse + math.sqrt(mean_squared_error(test_label[i], predict_label))\n",
    "    \n",
    "print 'MSE'\n",
    "print mse/5.0\n",
    "print 'RMSE'\n",
    "\n",
    "print rmse/5.0"
   ]
  },
  {
   "cell_type": "code",
   "execution_count": null,
   "metadata": {
    "collapsed": false
   },
   "outputs": [],
   "source": [
    "mae_final = 0\n",
    "rmse_final = 0\n",
    "\n",
    "for case in range(0,5):\n",
    "    mae = 0 \n",
    "    rmse = 0\n",
    "    for i in range(0,5):\n",
    "        clf= MLPRegressor(hidden_layer_sizes=(1300,1100,1000,800,700,600,500), max_iter = 800 )\n",
    "        #clf= MLPRegressor()\n",
    "\n",
    "        clf.fit(train_matrix[i], train_label[i])\n",
    "        predict_label = clf.predict(test_matrix[i])\n",
    "\n",
    "        mae = mae + mean_absolute_error(test_label[i], predict_label)\n",
    "        rmse = rmse + math.sqrt(mean_squared_error(test_label[i], predict_label))\n",
    "    \n",
    "    print case\n",
    "    print mae/5.0\n",
    "    print rmse/5.0\n",
    "    mae_final = mae_final + mae/5.0\n",
    "    rmse_final = rmse_final + rmse/5.0\n",
    "\n",
    "print \"Final MAE Score\"\n",
    "print mae_final / 5.0\n",
    "\n",
    "print \"Final RMSE Score\"\n",
    "print rmse_final / 5.0"
   ]
  },
  {
   "cell_type": "code",
   "execution_count": null,
   "metadata": {
    "collapsed": false
   },
   "outputs": [],
   "source": [
    "mae_list = []\n",
    "rmse_list = []\n",
    "\n",
    "for case in range(10,31):\n",
    "    \n",
    "    mae_final = 0\n",
    "    rmse_final = 0\n",
    "    \n",
    "    for iter in range(0,10):\n",
    "        mae = 0 \n",
    "        rmse = 0\n",
    "        for i in range(0,5):\n",
    "            clf= MLPRegressor(hidden_layer_sizes=case*100, max_iter = 500 )\n",
    "            #clf= MLPRegressor()\n",
    "\n",
    "            clf.fit(train_matrix[i], train_label[i])\n",
    "            predict_label = clf.predict(test_matrix[i])\n",
    "\n",
    "            mae = mae + mean_absolute_error(test_label[i], predict_label)\n",
    "            rmse = rmse + math.sqrt(mean_squared_error(test_label[i], predict_label))\n",
    "\n",
    "        mae_final = mae_final + mae/5.0\n",
    "        rmse_final = rmse_final + rmse/5.0\n",
    "    \n",
    "    mae_list.append(mae_final/10.0)\n",
    "    rmse_list.append(rmse_final/10.0)            \n",
    "\n",
    "print case*100\n",
    "for item in mae_list: \n",
    "    print item\n",
    "\n",
    "for item in rmse_list:\n",
    "    print item\n",
    "\n",
    "print \"\\n\""
   ]
  }
 ],
 "metadata": {
  "anaconda-cloud": {},
  "kernelspec": {
   "display_name": "Python [conda root]",
   "language": "python",
   "name": "conda-root-py"
  },
  "language_info": {
   "codemirror_mode": {
    "name": "ipython",
    "version": 2
   },
   "file_extension": ".py",
   "mimetype": "text/x-python",
   "name": "python",
   "nbconvert_exporter": "python",
   "pygments_lexer": "ipython2",
   "version": "2.7.12"
  }
 },
 "nbformat": 4,
 "nbformat_minor": 1
}
