{
 "cells": [
  {
   "cell_type": "code",
   "execution_count": 1,
   "metadata": {
    "collapsed": false
   },
   "outputs": [
    {
     "name": "stdout",
     "output_type": "stream",
     "text": [
      "8011\n",
      "8011\n",
      "Loading Files Done\n"
     ]
    }
   ],
   "source": [
    "# Reading the Patient Feature and Id file\n",
    "import json\n",
    "\n",
    "with open('Data/Final_Datasets/Total_Patients_Personal_Details_Features_File.txt') as data_file:    \n",
    "    patient_data = json.load(data_file)   # yaml.safe_loads produces strings rather than unicode strings as in json.load\n",
    "\n",
    "with open('Data/Final_Datasets/Selected_Patient_Id.txt') as data_file:    \n",
    "    patient_id = json.load(data_file)   # yaml.safe_loads produces strings rather than unicode strings as in json.load\n",
    "    \n",
    "print len(patient_data)\n",
    "print len(patient_id)\n",
    "print \"Loading Files Done\""
   ]
  },
  {
   "cell_type": "code",
   "execution_count": 2,
   "metadata": {
    "collapsed": false
   },
   "outputs": [
    {
     "name": "stdout",
     "output_type": "stream",
     "text": [
      "Total Number of evaluations 42075\n"
     ]
    }
   ],
   "source": [
    "# Total Evaluations for Datasets\n",
    "\n",
    "total_eval_count = 0\n",
    "for patient in patient_data.keys():\n",
    "    for drug in patient_data[patient][\"Treatments List\"].keys():\n",
    "            total_eval_count = total_eval_count + 1\n",
    "\n",
    "print \"Total Number of evaluations\",\n",
    "print total_eval_count"
   ]
  },
  {
   "cell_type": "code",
   "execution_count": 3,
   "metadata": {
    "collapsed": false
   },
   "outputs": [
    {
     "name": "stdout",
     "output_type": "stream",
     "text": [
      "Done with the Test\n"
     ]
    }
   ],
   "source": [
    "# Checking is still some case of no Side Effect being mentioned\n",
    "for patient in patient_data.keys():\n",
    "    for drug in patient_data[patient][\"Treatments List\"].keys():\n",
    "        if patient_data[patient][\"Treatments List\"][drug][\"Side Effects\"] == -1:\n",
    "            print \"You are Screwed\"\n",
    "\n",
    "print \"Done with the Test\""
   ]
  },
  {
   "cell_type": "code",
   "execution_count": null,
   "metadata": {
    "collapsed": false
   },
   "outputs": [],
   "source": [
    "# Checking shape and evaluations for the librec files\n",
    "\n",
    "import pandas as pd\n",
    "\n",
    "dataframe = pd.read_csv(\"Data/Final_Datasets/Librec Side Effects Rating.txt\", sep = ' ')       \n",
    "print \"Length of Rating File\"\n",
    "print dataframe.shape\n",
    "\n",
    "with open('Data/Final_Datasets/Librec_Side_Effects_Data.txt') as data_file:    \n",
    "    patient_data = json.load(data_file)   # yaml.safe_loads produces strings rather than unicode strings as in json.load\n",
    "\n",
    "print \"Length of Side Effect File\"\n",
    "print len(patient_data)\n",
    "\n",
    "count = 0\n",
    "for patient in patient_data:\n",
    "    for drug in patient_data[patient].keys():\n",
    "        count =count + 1\n",
    "\n",
    "print \"Total evaluations in Side Effect File\"\n",
    "print count"
   ]
  },
  {
   "cell_type": "code",
   "execution_count": 4,
   "metadata": {
    "collapsed": false
   },
   "outputs": [
    {
     "name": "stdout",
     "output_type": "stream",
     "text": [
      "434\n",
      "1675\n",
      "3602\n",
      "6\n",
      "3\n",
      "2169\n",
      "2813\n"
     ]
    }
   ],
   "source": [
    "# Generating some statistics for features\n",
    "\n",
    "other_condition = []\n",
    "primary_condition = []\n",
    "location = []\n",
    "age =[]\n",
    "gender = []\n",
    "purpose =[]\n",
    "side_effect = []\n",
    "\n",
    "for patient in patient_data.keys():\n",
    "    \n",
    "    # Primary Conditions\n",
    "    feature = patient_data[patient][\"Primary Condition\"]\n",
    "    if feature !=-1:\n",
    "        if feature not in primary_condition:  \n",
    "            primary_condition.append(feature)\n",
    "            \n",
    "    # Location\n",
    "    feature = patient_data[patient][\"Location\"]\n",
    "    if feature !=-1:\n",
    "        if feature not in location:  \n",
    "            location.append(feature)\n",
    "    \n",
    "    # Other Conditions\n",
    "    feature = patient_data[patient][\"Other conditions\"]\n",
    "    if feature !=-1:\n",
    "        for item in feature:\n",
    "            if item not in other_condition:  \n",
    "                other_condition.append(item)\n",
    "    # Age            \n",
    "    feature = patient_data[patient][\"Age\"]\n",
    "    if feature !=-1:\n",
    "        if feature not in age:  \n",
    "            age.append(feature)\n",
    "    \n",
    "    # Gender        \n",
    "    feature = patient_data[patient][\"Gender\"]\n",
    "    if feature !=-1:\n",
    "        if feature not in gender:  \n",
    "            gender.append(feature)\n",
    "    \n",
    "    # Purpose and Side Effect\n",
    "    for drug in patient_data[patient][\"Treatments List\"].keys():\n",
    "        \n",
    "        feature = patient_data[patient][\"Treatments List\"][drug][\"Purpose\"]\n",
    "        if feature not in purpose:\n",
    "            purpose.append(feature)\n",
    "                \n",
    "        feature = patient_data[patient][\"Treatments List\"][drug][\"Side Effects\"]\n",
    "        for item in feature:\n",
    "            if item not in side_effect:\n",
    "                side_effect.append(item)\n",
    "                    \n",
    "print len(primary_condition)\n",
    "print len(other_condition)\n",
    "print len(location)\n",
    "print len(age)\n",
    "print len(gender)\n",
    "print len(purpose)\n",
    "print len(side_effect)"
   ]
  },
  {
   "cell_type": "code",
   "execution_count": 22,
   "metadata": {
    "collapsed": false
   },
   "outputs": [
    {
     "name": "stdout",
     "output_type": "stream",
     "text": [
      "2813\n"
     ]
    },
    {
     "data": {
      "image/png": "[encoded data removed]",
      "text/plain": [
       "<matplotlib.figure.Figure at 0x7f0619631190>"
      ]
     },
     "metadata": {},
     "output_type": "display_data"
    }
   ],
   "source": [
    "# Plotting the Cumulative Frequency Plot\n",
    "\n",
    "import numpy as np\n",
    "\n",
    "print len(side_effect_dict)\n",
    "X = [0,1,2,3,4,5]\n",
    "Y= []\n",
    "for item in X:\n",
    "    cf =0 \n",
    "    for key in side_effect_dict.keys():\n",
    "        if side_effect_dict[key] <= item:\n",
    "            cf =cf + 1\n",
    "    cf = float(cf)/ len(side_effect_dict.keys())\n",
    "    Y.append(cf)\n",
    "    \n",
    "plt.xlabel(\"Number of evaluations\")\n",
    "plt.ylabel(\"Percentage\")\n",
    "plt.plot(X,Y)\n",
    "plt.show()    \n",
    "\n",
    "# Plotting the top-K Side Effects\n",
    "import numpy as np\n",
    "\n",
    "print len(side_effect_dict.keys())\n",
    "y_values =  sorted(side_effect_dict.values())\n",
    "plt.plot(y_values)\n",
    "plt.ylim([0,50])\n",
    "plt.show()\n",
    "\n",
    "y_values = np.array(y_values)\n",
    "y_values = y_values[ y_values > 50]\n",
    "print len(y_values)\n",
    "\n",
    "# Plotting the histogram\n",
    "\n",
    "plt.hist(side_effect_dict.values(), bins=[0,10,20,30,40,50,100,200,500,1000])\n",
    "#plt.ylim([0,500])\n",
    "plt.ylabel('Frequency')\n",
    "plt.xlabel('Number of Evaluations')\n",
    "plt.title('Side Effects')\n",
    "plt.show()"
   ]
  }
 ],
 "metadata": {
  "anaconda-cloud": {},
  "kernelspec": {
   "display_name": "Python [conda root]",
   "language": "python",
   "name": "conda-root-py"
  },
  "language_info": {
   "codemirror_mode": {
    "name": "ipython",
    "version": 2
   },
   "file_extension": ".py",
   "mimetype": "text/x-python",
   "name": "python",
   "nbconvert_exporter": "python",
   "pygments_lexer": "ipython2",
   "version": "2.7.12"
  }
 },
 "nbformat": 4,
 "nbformat_minor": 1
}
