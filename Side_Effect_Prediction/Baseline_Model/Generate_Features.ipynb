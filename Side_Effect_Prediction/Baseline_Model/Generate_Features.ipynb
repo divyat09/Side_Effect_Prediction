{
 "cells": [
  {
   "cell_type": "code",
   "execution_count": 1,
   "metadata": {
    "collapsed": false
   },
   "outputs": [
    {
     "name": "stdout",
     "output_type": "stream",
     "text": [
      "Done\n"
     ]
    }
   ],
   "source": [
    "# Reading the drug evaluations data file\n",
    "import json\n",
    "import re\n",
    "\n",
    "with open('Data/Treatment_Drugs_Evaluation_Detail_Scaled_0_2000_Meaningful.txt') as data_file:    \n",
    "    eval_data = json.load(data_file)   # yaml.safe_loads produces strings rather than unicode strings as in json.load\n",
    "\n",
    "print \"Done\"    "
   ]
  },
  {
   "cell_type": "code",
   "execution_count": 2,
   "metadata": {
    "collapsed": false
   },
   "outputs": [
    {
     "name": "stdout",
     "output_type": "stream",
     "text": [
      "Done\n"
     ]
    }
   ],
   "source": [
    "# Reading patients personal details file\n",
    "\n",
    "with open('Data/Total_Patients_Personal_Details.txt') as data_file:    \n",
    "    patient_data = json.load(data_file)   # yaml.safe_loads produces strings rather than unicode strings as in json.load\n",
    "\n",
    "print \"Done\"    "
   ]
  },
  {
   "cell_type": "code",
   "execution_count": 3,
   "metadata": {
    "collapsed": true
   },
   "outputs": [],
   "source": [
    "# Initialising\n",
    "\n",
    "for patient in patient_data:\n",
    "    patient_data[patient][\"Treatments List\"] = {}"
   ]
  },
  {
   "cell_type": "code",
   "execution_count": 5,
   "metadata": {
    "collapsed": false
   },
   "outputs": [
    {
     "name": "stdout",
     "output_type": "stream",
     "text": [
      "Total Number of Drugs\n",
      "1141\n"
     ]
    }
   ],
   "source": [
    "# Assigning the drugs with their respective id's. Constraint is imposed here that every patient must have evaluated \n",
    "# atleast 3 different drugs and every drug must have non zero evaluations.\n",
    "\n",
    "drug_id = {}\n",
    "drug_counter = 0\n",
    "\n",
    "for key in eval_data.keys():\n",
    "\t\n",
    "\tdrug_eval_counter = 0\n",
    "\tfor item in eval_data[key]:\t\n",
    "\t\tpatient = item[\"Patient Name\"]\n",
    "\n",
    "# Maintains the constraint that patients are under at least 3 different treatments\n",
    "\t\tif patient in patient_data.keys():\t\t\t\n",
    "#\t\t\tdrug_eval_counter = drug_eval_counter + len(item[\"evaluations\"].keys()) #This leads to a patient having multiple evals, but we only consider the latest one\n",
    "\t\t\tdrug_eval_counter = drug_eval_counter + 1 \n",
    "            \n",
    "\t# Only those drugs are assigned id's now which have more than 1 evaluations: Makes sense, no evaluations for a drug means it useless \n",
    "\tif drug_eval_counter >=1 and key not in drug_id.keys():\n",
    "\t\tdrug_id[key] = drug_counter\n",
    "\t\tdrug_counter = drug_counter + 1\n",
    "\n",
    "print \"Total Number of Drugs\"\n",
    "print len(drug_id)\n",
    "\n",
    "# Writing the final new data for Patient Details\t\t\n",
    "f=open(\"Data/Final_Datasets/Id_Mapping_Files/Selected_Drug_Id.txt\",\"w\")\n",
    "f.write( json.dumps(drug_id, indent=3, sort_keys=True) )\n",
    "f.close()"
   ]
  },
  {
   "cell_type": "code",
   "execution_count": 6,
   "metadata": {
    "collapsed": false
   },
   "outputs": [],
   "source": [
    "# Checking if above constraint was implemented successfully\n",
    "\n",
    "for key in drug_id.keys():\n",
    "    drug_eval_counter = 0\n",
    "    for item in eval_data[key]:\n",
    "        patient = item[\"Patient Name\"]\n",
    "        if patient in patient_data.keys():\n",
    "            #drug_eval_counter = drug_eval_counter + len(item[\"evaluations\"].keys()) \n",
    "            drug_eval_counter = drug_eval_counter + 1 \n",
    "    if drug_eval_counter < 1:\n",
    "        print \"You are Screwed\""
   ]
  },
  {
   "cell_type": "code",
   "execution_count": 7,
   "metadata": {
    "collapsed": false
   },
   "outputs": [],
   "source": [
    "# Testing\n",
    "\n",
    "for key in drug_id.keys():\n",
    "    for item in eval_data[key]:\n",
    "        patient= item[\"Patient Name\"]\n",
    "        if patient in patient_data.keys() and len(item[\"evaluations\"].keys()) <=0:\n",
    "            print \"You are Screwed\""
   ]
  },
  {
   "cell_type": "code",
   "execution_count": 8,
   "metadata": {
    "collapsed": false
   },
   "outputs": [
    {
     "name": "stdout",
     "output_type": "stream",
     "text": [
      "38\n"
     ]
    }
   ],
   "source": [
    "from datetime import datetime\n",
    "\n",
    "for key in drug_id.keys():\n",
    "\t\n",
    "\tfor item in eval_data[key]:\t\n",
    "\t\tpatient = item[\"Patient Name\"]\n",
    "# if statement maintains the check that each patient is under at least 3 different drugs constraint \n",
    "\t\tif patient in patient_data.keys():\t\t\t\n",
    "\t\t\t\t# Convert string into datetime format\n",
    "\t\t\t\tdate_list =[]\n",
    "\t\t\t\tfor date in item[\"evaluations\"].keys():\n",
    "\t\t\t\t\t\tdate_list.append( datetime.strptime( date, '%d/%m/%Y') )                    \n",
    "\t\t\t\t# Find the latest date\n",
    "\t\t\t\tdate = item[\"evaluations\"].keys()[ date_list.index( max(date_list) ) ]\n",
    "\t\t\t\t\n",
    "\t\t\t\ttemp_dict = {}\n",
    "\t\t\t\t# Assign the data of the latest evaluation for that patient\n",
    "\t\t\t\ttemp_dict[\"Date of Evaluation\"] = max(date_list)\n",
    "\t\t\t\ttemp_dict[\"Effectiveness Rating\"] = item[\"evaluations\"][date][\"Effectiveness\"]\n",
    "\t\t\t\ttemp_dict[\"Side Effect Rating\"] = item[\"evaluations\"][date][\"Side Effect Rating\"]\n",
    "\t\t\t\ttemp_dict[\"Advice & Tips\"] = item[\"evaluations\"][date][\"Advice & Tips\"]\n",
    "\t\t\t\ttemp_dict[\"Adherence\"] = item[\"evaluations\"][date][\"Adherence\"]\n",
    "\t\t\t\ttemp_dict[\"Burden\"] = item[\"evaluations\"][date][\"Burden\"]\n",
    "\t\t\t\ttemp_dict[\"Cost\"] = item[\"evaluations\"][date][\"Cost\"]\n",
    "\t\t\t\ttemp_dict[\"Purpose\"] = item[\"evaluations\"][date][\"Purpose\"]\n",
    "\t\t\t\ttemp_dict[\"Side Effects\"] = item[\"evaluations\"][date][\"Side effects\"]\n",
    "\t\t\t\tpatient_data[patient][\"Treatments List\"][drug_id[key]] = temp_dict\n",
    "\t\t\t\tif temp_dict[\"Side Effects\"] == -1: #Checking if still there are cases that do not have side effects reported                \n",
    "\t\t\t\t\tprint \"You are Screwed\"\n",
    "\n",
    "# Removing patients that do not have evaluted any drugs now because of some constraints.\n",
    "counter_useless = 0\n",
    "for patient in patient_data.keys():\n",
    "\tif not len(patient_data[patient][\"Treatments List\"].keys()):\n",
    "\t\tcounter_useless = counter_useless + 1\n",
    "\t\tpatient_data.pop(patient, None)\n",
    "\n",
    "print counter_useless"
   ]
  },
  {
   "cell_type": "code",
   "execution_count": 9,
   "metadata": {
    "collapsed": false
   },
   "outputs": [
    {
     "name": "stdout",
     "output_type": "stream",
     "text": [
      "Done\n"
     ]
    }
   ],
   "source": [
    "# Normalising the date of evalations of different drugs for one patient to 0 to 1\n",
    "counter_useless = 0\n",
    "for patient in patient_data.keys():\n",
    "\n",
    "\t# Making a list of all dates for that patient    \n",
    "\ttreatment_dict = patient_data[patient][\"Treatments List\"]\n",
    "\tdate_list = []\n",
    "\tfor drug in treatment_dict.keys():\n",
    "\t\tdate_list.append( treatment_dict[drug][\"Date of Evaluation\"])\n",
    "        \n",
    "\t# Initialising          \n",
    "\tmax_date = max(date_list)   \n",
    "\tmin_date = min(date_list)\n",
    "\tscale = (max_date - min_date).days\n",
    "\tcount = 0\n",
    "    \n",
    "\t# Normalising all the dates to 0 and 1 and assigning the normalised value in the patient dictionary\n",
    "\tdays_list = []    \n",
    "\tif scale !=0:\n",
    "\t\tfor drug in treatment_dict.keys():\n",
    "\t\t\ttreatment_dict[drug][\"Date of Evaluation\"] = ( date_list[count] - min_date ).days / float(scale)\n",
    "\t\t\tdays_list.append( ( date_list[count] - min_date ).days )\n",
    "\t\t\tcount = count + 1\n",
    "\telse:\n",
    "\t\tfor drug in treatment_dict.keys():\n",
    "\t\t\tdays_list.append( ( date_list[count] - min_date ).days )\n",
    "\t\t\ttreatment_dict[drug][\"Date of Evaluation\"] = 1\n",
    "        \n",
    "\t# Making a list which has value 0 if no drug previous to it was taken in span of 30 days else 1    \n",
    "\tother_drug_list = []\n",
    "\tdays_list.sort()\n",
    "\n",
    "\tfor count in range(0, len(days_list)):\n",
    "\t\tother_drug = 0\n",
    "\t\tfor sub_count in range(0,count):\n",
    "\t\t\tif days_list[count] - days_list[sub_count] <= 30:\n",
    "\t\t\t\tother_drug = 1\n",
    "\t\tother_drug_list.append(other_drug)\n",
    "    \n",
    "\t# Assigning the binary other drug value to patient dictionary   \n",
    "\tcount = 0\n",
    "\tfor drug in treatment_dict.keys():\n",
    "\t\ttreatment_dict[drug][\"Other_Drug\"] = other_drug_list[count]\n",
    "\t\tcount = count + 1\n",
    "     \n",
    "\tpatient_data[patient][\"Treatments List\"] = treatment_dict \n",
    "\n",
    "print \"Done\"\n"
   ]
  },
  {
   "cell_type": "code",
   "execution_count": 10,
   "metadata": {
    "collapsed": false
   },
   "outputs": [
    {
     "name": "stdout",
     "output_type": "stream",
     "text": [
      "434\n",
      "1675\n",
      "3602\n"
     ]
    }
   ],
   "source": [
    "other_condition = []\n",
    "primary_condition = []\n",
    "sentence_list = []\n",
    "location = []\n",
    "\n",
    "primary_condition_list = {}\n",
    "other_condition_list = {}\n",
    "location_list = {}\n",
    "\n",
    "counter1 = 0\n",
    "counter2 = 0\n",
    "counter3 = 0\n",
    "counter4 = 0\n",
    "\n",
    "for patient in patient_data.keys():\n",
    "    \n",
    "\t# Removing Unnecessary Data\n",
    "\tpatient_data[patient].pop(\"Symptoms\", None)\n",
    "\n",
    "\t# Feature Generation for Patient Condition: Assigning every different condition an integer id.\n",
    "\tfeature = patient_data[patient][\"Primary Condition\"]\n",
    "\tif feature !=-1:\n",
    "\t\tif feature not in primary_condition_list.keys():  \n",
    "\t\t\t\n",
    "\t\t\tprimary_condition_list[ feature ] = counter1\n",
    "\t\t\tpatient_data[patient][\"Primary Condition\"] = counter1\n",
    "\t\t\tcounter1 = counter1 + 1\n",
    "\n",
    "\t\telse:\n",
    "\t\t\tpatient_data[patient][\"Primary Condition\"] = primary_condition_list[ feature ]\t\t\n",
    "\t\n",
    "\t# Feature Generation for Other Conditions\t\t\n",
    "\tfeature = patient_data[patient][\"Other conditions\"]\n",
    "\tif feature !=-1:\t\n",
    "\t\ttemp = []\n",
    "\t\tfor condition in feature:\t\n",
    "\n",
    "\t\t\tif condition not in other_condition_list.keys():\n",
    "\t\t\t\tother_condition_list[condition] = counter2\n",
    "\t\t\t\ttemp.append(counter2)\n",
    "\t\t\t\tcounter2 =counter2 + 1 \n",
    "\n",
    "\t\t\telse:\n",
    "\t\t\t\ttemp.append(other_condition_list[ condition ])\n",
    "\t\tpatient_data[patient][\"Other conditions\"] = temp\t\t\n",
    "\t\t\t\t\n",
    "\n",
    "\t# Feature generation for Location\n",
    "\tfeature = patient_data[patient][\"Location\"]\n",
    "    \n",
    "# There was some issue that empty strings were being assigned id as they had not been assigned -1 label. Did that here   \n",
    "\tif feature == \"\":\n",
    "\t\tpatient_data[patient][\"Location\"] = -1\n",
    "\t\tfeature = -1\n",
    "        \n",
    "\tif feature != -1:    \n",
    "\t\tif feature not in location_list.keys() :\n",
    "\t\t\tlocation_list[ feature ] = counter3\n",
    "\t\t\tpatient_data[patient][\"Location\"] = counter3\n",
    "\t\t\tcounter3 =counter3 +1 \t\t\n",
    "\t\n",
    "\t\telse:\n",
    "\t\t\tpatient_data[patient][\"Location\"] = location_list[ feature ]\n",
    "\t\n",
    "\t# Feature generation for Gender\n",
    "\tspecial_gender_list = [\"Genderqueer\", \"Agender\", \"Asexual\", \"Gender Neutral\", \"TransFemale/Transwoman\", \"TransMale/Transman\", \"Genderfluid\", \"genderfluid\", \"Non Binary\", \"NonBinary\"]\n",
    "\tif patient_data[patient][\"Gender\"] == \"Female\":\n",
    "\t\tpatient_data[patient][\"Gender\"] = 1\n",
    "\n",
    "\telif patient_data[patient][\"Gender\"] == \"Male\":\n",
    "\t\tpatient_data[patient][\"Gender\"] = 0\n",
    "        \n",
    "\telif patient_data[patient][\"Gender\"] in special_gender_list:\n",
    "\t\tpatient_data[patient][\"Gender\"] = 2\n",
    "\telse:\n",
    "\t\tcounter4 = counter4 + 1\n",
    "\t\tpatient_data[patient][\"Gender\"] = -1 \n",
    "\n",
    "\t# Feature Generation for Age\n",
    "\n",
    "\tif 0<= patient_data[patient][\"Age\"] and patient_data[patient][\"Age\"] <= 20 :\n",
    "\t\tpatient_data[patient][\"Age\"] = 0\n",
    "\n",
    "\telif 20< patient_data[patient][\"Age\"] and patient_data[patient][\"Age\"] <= 40 :\n",
    "\t\tpatient_data[patient][\"Age\"] = 1\n",
    "\n",
    "\telif 40< patient_data[patient][\"Age\"] and patient_data[patient][\"Age\"] <= 60 :\n",
    "\t\tpatient_data[patient][\"Age\"] = 2\n",
    "\n",
    "\telif 60< patient_data[patient][\"Age\"] and patient_data[patient][\"Age\"] <= 80 :\n",
    "\t\tpatient_data[patient][\"Age\"] = 3\n",
    "\n",
    "\telif 80< patient_data[patient][\"Age\"] and patient_data[patient][\"Age\"] <= 100 :\n",
    "\t\tpatient_data[patient][\"Age\"] = 4\n",
    "\n",
    "\telif 100< patient_data[patient][\"Age\"]:\n",
    "\t\tpatient_data[patient][\"Age\"] = 5\n",
    "        \n",
    "print len(primary_condition_list)\n",
    "print len(other_condition_list)\n",
    "print len(location_list)\n",
    "\n",
    "# Writing the mapping files\n",
    "f=open(\"Data/Final_Datasets/Id_Mapping_Files/Primary_Condition_Id.txt\",\"w\")\n",
    "f.write( json.dumps(primary_condition_list, indent=3, sort_keys=True) )\n",
    "f.close()\n",
    "\n",
    "f=open(\"Data/Final_Datasets/Id_Mapping_Files/Other_Condition_Id.txt\",\"w\")\n",
    "f.write( json.dumps(other_condition_list, indent=3, sort_keys=True) )\n",
    "f.close()\n",
    "\n",
    "f=open(\"Data/Final_Datasets/Id_Mapping_Files/Location_Id.txt\",\"w\")\n",
    "f.write( json.dumps(location_list, indent=3, sort_keys=True) )\n",
    "f.close()"
   ]
  },
  {
   "cell_type": "code",
   "execution_count": 11,
   "metadata": {
    "collapsed": false
   },
   "outputs": [
    {
     "name": "stdout",
     "output_type": "stream",
     "text": [
      "2169\n",
      "2813\n"
     ]
    }
   ],
   "source": [
    "# Generating Features for Side Effects and Purpose\n",
    "\n",
    "purpose ={}\n",
    "side_effect = {}\n",
    "count1 = 0\n",
    "count2 = 0\n",
    "\n",
    "for patient in patient_data.keys():\n",
    "    \n",
    "    # Purpose and Side Effect Feature Generation: Assiging each purpose and side effect an integer id\n",
    "    for drug in patient_data[patient][\"Treatments List\"].keys():\n",
    "        \n",
    "        # Purpose\n",
    "        feature = patient_data[patient][\"Treatments List\"][drug][\"Purpose\"]\n",
    "        if feature != -1:\n",
    "            temp = 0\n",
    "            if feature not in purpose.keys():\n",
    "                purpose[ feature ] = count1\n",
    "                temp = count1\n",
    "                count1 = count1 + 1\n",
    "            else:\n",
    "                temp = purpose[feature]\n",
    "\n",
    "            patient_data[patient][\"Treatments List\"][drug][\"Purpose\"] = temp\n",
    "        \n",
    "        # Side Effect\n",
    "        feature = patient_data[patient][\"Treatments List\"][drug][\"Side Effects\"]\n",
    "        temp = []\n",
    "        for item in feature:\n",
    "            item = item.replace(\" \",\"\").lower()\n",
    "\n",
    "            if item == \"\":\n",
    "                item = \"None\"\n",
    "\n",
    "            if item not in side_effect.keys():\n",
    "                side_effect[item] = count2\n",
    "                temp.append(count2)\n",
    "                count2 = count2 + 1\n",
    "            else:\n",
    "                temp.append( side_effect[item] )\n",
    "                \n",
    "        patient_data[patient][\"Treatments List\"][drug][\"Side Effects\"] = temp\n",
    "        \n",
    "print len(purpose)\n",
    "print len(side_effect)\n",
    "\n",
    "f=open(\"Data/Final_Datasets/Id_Mapping_Files/Purpose_Id.txt\",\"w\")\n",
    "f.write( json.dumps(purpose, indent=3, sort_keys=True) )\n",
    "f.close()\n",
    "\n",
    "f=open(\"Data/Final_Datasets/Id_Mapping_Files/Side_Effects_Id.txt\",\"w\")\n",
    "f.write( json.dumps(side_effect, indent=3, sort_keys=True) )\n",
    "f.close()"
   ]
  },
  {
   "cell_type": "code",
   "execution_count": 12,
   "metadata": {
    "collapsed": false
   },
   "outputs": [
    {
     "name": "stdout",
     "output_type": "stream",
     "text": [
      "8011\n"
     ]
    }
   ],
   "source": [
    "patient_counter =1\n",
    "patient_id ={}\n",
    "\n",
    "# Creating integer id's for patients\n",
    "for patient in patient_data.keys():\n",
    "    patient_id[patient] = patient_counter\n",
    "    patient_counter = patient_counter + 1\n",
    "            \n",
    "# Writing the final new data for Patient Details\n",
    "print len(patient_data)\n",
    "\n",
    "f=open(\"Data/Final_Datasets/Id_Mapping_Files/Selected_Patient_Id.txt\",\"w\")\n",
    "f.write( json.dumps(patient_id, indent=3, sort_keys=True) )\n",
    "f.close()\n",
    "\n",
    "f=open(\"Data/Final_Datasets/Total_Patients_Personal_Details_Features_File.txt\",\"w\")\n",
    "f.write( json.dumps(patient_data, indent=3, sort_keys=True) )\n",
    "f.close()"
   ]
  },
  {
   "cell_type": "code",
   "execution_count": null,
   "metadata": {
    "collapsed": true
   },
   "outputs": [],
   "source": []
  }
 ],
 "metadata": {
  "anaconda-cloud": {},
  "kernelspec": {
   "display_name": "Python [conda root]",
   "language": "python",
   "name": "conda-root-py"
  },
  "language_info": {
   "codemirror_mode": {
    "name": "ipython",
    "version": 2
   },
   "file_extension": ".py",
   "mimetype": "text/x-python",
   "name": "python",
   "nbconvert_exporter": "python",
   "pygments_lexer": "ipython2",
   "version": "2.7.12"
  }
 },
 "nbformat": 4,
 "nbformat_minor": 1
}
