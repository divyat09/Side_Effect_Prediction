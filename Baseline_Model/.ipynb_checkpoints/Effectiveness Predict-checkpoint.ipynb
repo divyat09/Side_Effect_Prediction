{
 "cells": [
  {
   "cell_type": "code",
   "execution_count": 1,
   "metadata": {
    "collapsed": false
   },
   "outputs": [
    {
     "name": "stdout",
     "output_type": "stream",
     "text": [
      "Loading Files Done\n"
     ]
    }
   ],
   "source": [
    "import yaml\n",
    "import json\n",
    "import math\n",
    "from mlxtend.preprocessing import OnehotTransactions\n",
    "from sklearn import linear_model\n",
    "from sklearn.svm import SVR\n",
    "from sklearn.feature_selection import SelectKBest\n",
    "from sklearn.feature_selection import chi2\n",
    "from sklearn.metrics import mean_absolute_error\n",
    "from sklearn.metrics import mean_squared_error\n",
    "import pandas as pd\n",
    "import numpy as np\n",
    "\n",
    "with open('Total_Patients_Personal_Details_Features_File.txt') as data_file:    \n",
    "    patient_data = yaml.safe_load(data_file)   # yaml.safe_loads produces strings rather than unicode strings as in json.load\n",
    "\n",
    "print \"Loading Files Done\""
   ]
  },
  {
   "cell_type": "code",
   "execution_count": 2,
   "metadata": {
    "collapsed": false
   },
   "outputs": [
    {
     "name": "stdout",
     "output_type": "stream",
     "text": [
      "Done\n"
     ]
    }
   ],
   "source": [
    "matrix =[]\n",
    "label = []\n",
    "\n",
    "patient_counter = 0\n",
    "\n",
    "for patient in patient_data.keys():\n",
    "    \n",
    "    # Feature cleaning for Gender\n",
    "\tif patient_data[patient][\"Gender\"] !=-1:\n",
    "\t\tif patient_data[patient][\"Gender\"] != 1 and patient_data[patient][\"Gender\"] != 0:\n",
    "\t\t\tpatient_data[patient][\"Gender\"] = -1\n",
    "\n",
    "\tpatient_counter = patient_counter + 1\n",
    "\n",
    "\tbase_feature = []\n",
    "\tbase_feature.append( patient_counter )\n",
    "\tbase_feature.append( patient_data[patient][\"Age\"] )\n",
    "\tbase_feature.append( patient_data[patient][\"Gender\"] )\n",
    "\tbase_feature.append( patient_data[patient][\"Location\"] )\n",
    "\tbase_feature.append( patient_data[patient][\"Primary Condition\"] )\n",
    "\n",
    "\t#if patient_data[patient][\"Other conditions\"] == -1:\n",
    "\t#\tbase_feature.append(-1)\n",
    "\t#else:\n",
    "\t#\tfor item in patient_data[patient][\"Other conditions\"]:\n",
    "\t#\t\tbase_feature.append(item)\n",
    "\n",
    "\t\n",
    "\tfor treatment in patient_data[patient][\"Treatments List\"].keys():\n",
    "\t\tdrug_feature = []\n",
    "\t\tdrug_feature.append(int(treatment))\n",
    "\t\tdrug_feature.append( patient_data[patient][\"Treatments List\"][treatment][\"Purpose\"])\n",
    "\t\tdrug_feature.append( patient_data[patient][\"Treatments List\"][treatment][\"Adherence\"])\n",
    "\t\tdrug_feature.append( patient_data[patient][\"Treatments List\"][treatment][\"Cost\"])\n",
    "\t\tdrug_feature.append( patient_data[patient][\"Treatments List\"][treatment][\"Date of Evaluation\"])\n",
    "\t\t'''\n",
    "\t\tfor other in patient_data[patient][\"Treatments List\"][treatment][\"Other Treatments Before\"]:\n",
    "\t\t\tdrug_feature.append(other)\n",
    "\t\t\tdrug_feature.append(patient_data[patient][\"Treatments List\"][str(other)][\"Purpose\"])\n",
    "\t\t\tdrug_feature.append(patient_data[patient][\"Treatments List\"][str(other)][\"Adherence\"])\n",
    "\t\t\tdrug_feature.append(patient_data[patient][\"Treatments List\"][str(other)][\"Cost\"])\n",
    "\t\t\tdrug_feature.append(patient[\"Treatments List\"][str(other)][\"Burden\"])\n",
    "\t\t\tdrug_feature.append(patient[\"Treatments List\"][str(other)][\"Side Effect Rating\"])\n",
    "\t\t\tdrug_feature.append(patient[\"Treatments List\"][str(other)][\"Side Effects\"])\n",
    "\t\t\t'''\n",
    "\n",
    "\t\tfeature = base_feature + drug_feature\n",
    "\t\tmatrix.append(feature)\t\t\t\n",
    "\t\tlabel.append(patient_data[patient][\"Treatments List\"][treatment][\"Effectiveness Rating\"])\t\t\n",
    "print \"Done\""
   ]
  },
  {
   "cell_type": "code",
   "execution_count": 3,
   "metadata": {
    "collapsed": false
   },
   "outputs": [
    {
     "name": "stdout",
     "output_type": "stream",
     "text": [
      "(26366, 169)\n",
      "Matrix Generated\n",
      "Printing Dimensions\n",
      "(21092, 169)\n",
      "(5274, 169)\n"
     ]
    }
   ],
   "source": [
    "matrix = pd.DataFrame(matrix).fillna(-1)\n",
    "print matrix.shape\n",
    "training_matrix = matrix[: int( len(matrix)*0.8 )]\n",
    "test_matrix = matrix[ int( len(matrix)*0.8 ) :]\n",
    "\n",
    "train_label = label[ 0: int( len(label)*0.8 ) ] \n",
    "test_label =  label[ int( len(label)*0.8 ) : ]\n",
    "\n",
    "print \"Matrix Generated\"\n",
    "print \"Printing Dimensions\"\n",
    "print training_matrix.shape\n",
    "print test_matrix.shape"
   ]
  },
  {
   "cell_type": "code",
   "execution_count": 14,
   "metadata": {
    "collapsed": false
   },
   "outputs": [
    {
     "data": {
      "text/plain": [
       "LinearRegression(copy_X=True, fit_intercept=True, n_jobs=1, normalize=False)"
      ]
     },
     "execution_count": 14,
     "metadata": {},
     "output_type": "execute_result"
    }
   ],
   "source": [
    "clf= linear_model.LinearRegression()\n",
    "clf.fit(training_matrix, train_label)"
   ]
  },
  {
   "cell_type": "code",
   "execution_count": 15,
   "metadata": {
    "collapsed": false
   },
   "outputs": [
    {
     "name": "stdout",
     "output_type": "stream",
     "text": [
      "MSE:  1.10302084459\n",
      "RMSE:  1.30523065025\n"
     ]
    }
   ],
   "source": [
    "predict_label =clf.predict(test_matrix)\n",
    "\n",
    "print \"MSE: \",\n",
    "print mean_absolute_error(test_label, predict_label)\n",
    "print \"RMSE: \",\n",
    "print math.sqrt(mean_squared_error(test_label, predict_label))"
   ]
  },
  {
   "cell_type": "code",
   "execution_count": 8,
   "metadata": {
    "collapsed": false
   },
   "outputs": [
    {
     "data": {
      "text/plain": [
       "SVR(C=1000.0, cache_size=200, coef0=0.0, degree=3, epsilon=0.1, gamma=0.1,\n",
       "  kernel='rbf', max_iter=-1, shrinking=True, tol=0.001, verbose=False)"
      ]
     },
     "execution_count": 8,
     "metadata": {},
     "output_type": "execute_result"
    }
   ],
   "source": [
    "clf= SVR( kernel = 'rbf', C=1e3, gamma =0.1)\n",
    "clf.fit(training_matrix, train_label)"
   ]
  },
  {
   "cell_type": "code",
   "execution_count": 9,
   "metadata": {
    "collapsed": false
   },
   "outputs": [
    {
     "name": "stdout",
     "output_type": "stream",
     "text": [
      "MSE:  1.11228941601\n",
      "RMSE:  1.30328436094\n"
     ]
    }
   ],
   "source": [
    "predict_label =clf.predict(test_matrix)\n",
    "\n",
    "print \"MSE: \",\n",
    "print mean_absolute_error(test_label, predict_label)\n",
    "print \"RMSE: \",\n",
    "print math.sqrt(mean_squared_error(test_label, predict_label))"
   ]
  },
  {
   "cell_type": "code",
   "execution_count": null,
   "metadata": {
    "collapsed": true
   },
   "outputs": [],
   "source": [
    "clf= SVR( kernel = 'linear', C=1e3 )\n",
    "clf.fit(training_matrix, train_label)"
   ]
  },
  {
   "cell_type": "code",
   "execution_count": null,
   "metadata": {
    "collapsed": true
   },
   "outputs": [],
   "source": [
    "predict_label =clf.predict(test_matrix)\n",
    "\n",
    "print \"MSE: \",\n",
    "print mean_absolute_error(test_label, predict_label)\n",
    "print \"RMSE: \",\n",
    "#print sqrt(mean_squared_error(test_label, predict_label))"
   ]
  },
  {
   "cell_type": "code",
   "execution_count": 11,
   "metadata": {
    "collapsed": false
   },
   "outputs": [
    {
     "data": {
      "text/plain": [
       "RandomForestRegressor(bootstrap=True, criterion='mse', max_depth=None,\n",
       "           max_features='auto', max_leaf_nodes=None,\n",
       "           min_impurity_split=1e-07, min_samples_leaf=1,\n",
       "           min_samples_split=2, min_weight_fraction_leaf=0.0,\n",
       "           n_estimators=10, n_jobs=1, oob_score=False, random_state=None,\n",
       "           verbose=0, warm_start=False)"
      ]
     },
     "execution_count": 11,
     "metadata": {},
     "output_type": "execute_result"
    }
   ],
   "source": [
    "from sklearn.ensemble import RandomForestRegressor\n",
    "\n",
    "clf = RandomForestRegressor()\n",
    "clf.fit(training_matrix, train_label)"
   ]
  },
  {
   "cell_type": "code",
   "execution_count": 13,
   "metadata": {
    "collapsed": false
   },
   "outputs": [
    {
     "name": "stdout",
     "output_type": "stream",
     "text": [
      "MSE:  1.19565794463\n",
      "RMSE:  1.41532125097\n"
     ]
    }
   ],
   "source": [
    "predict_label =clf.predict(test_matrix)\n",
    "\n",
    "print \"MSE: \",\n",
    "print mean_absolute_error(test_label, predict_label)\n",
    "print \"RMSE: \",\n",
    "print math.sqrt(mean_squared_error(test_label, predict_label))"
   ]
  },
  {
   "cell_type": "code",
   "execution_count": null,
   "metadata": {
    "collapsed": true
   },
   "outputs": [],
   "source": []
  }
 ],
 "metadata": {
  "anaconda-cloud": {},
  "kernelspec": {
   "display_name": "Python [conda root]",
   "language": "python",
   "name": "conda-root-py"
  },
  "language_info": {
   "codemirror_mode": {
    "name": "ipython",
    "version": 2
   },
   "file_extension": ".py",
   "mimetype": "text/x-python",
   "name": "python",
   "nbconvert_exporter": "python",
   "pygments_lexer": "ipython2",
   "version": "2.7.12"
  }
 },
 "nbformat": 4,
 "nbformat_minor": 1
}
